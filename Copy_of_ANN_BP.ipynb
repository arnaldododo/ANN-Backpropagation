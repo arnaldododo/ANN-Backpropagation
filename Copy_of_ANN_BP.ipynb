{
  "nbformat": 4,
  "nbformat_minor": 0,
  "metadata": {
    "colab": {
      "name": "Copy of ANN BP.ipynb",
      "provenance": [],
      "collapsed_sections": []
    },
    "kernelspec": {
      "name": "python3",
      "display_name": "Python 3"
    }
  },
  "cells": [
    {
      "cell_type": "markdown",
      "metadata": {
        "id": "AfKI14jsMHnC"
      },
      "source": [
        "# **Pengenalan Digit Tulisan Tangan Dengan Metode Backpropagation**\n",
        "\n",
        "\n",
        "---"
      ]
    },
    {
      "cell_type": "code",
      "metadata": {
        "id": "3KnquqtYKyLd"
      },
      "source": [
        "import tensorflow as tf #library mechine-learning\n",
        "import matplotlib.pyplot as plt #untuk visualisasi data"
      ],
      "execution_count": 149,
      "outputs": []
    },
    {
      "cell_type": "markdown",
      "metadata": {
        "id": "F9_uu94dMu4d"
      },
      "source": [
        "## Deskripsi dataset\n",
        "*   Data yang digunakan berasal MNIST database (Modified National Institute of Standards and Technology database) yang berisikan 60.000 data training dan 10.000 data testing.\n",
        "*   Data berupa citra digit tunggal angka 0 sampai 9 dalam format grayscale berdimensi 28 x 28 pixel.\n",
        "*   x_train dan x_test diisi dengan array dari data citra, sedangkan y_train dan y_test diisi dengan angka label dari citra yang bersangkutan.\n",
        "\n"
      ]
    },
    {
      "cell_type": "code",
      "metadata": {
        "id": "ktfkbRtLNOmE"
      },
      "source": [
        "mnist = tf.keras.datasets.mnist \n",
        "(x_train, y_train),(x_test, y_test) = mnist.load_data()"
      ],
      "execution_count": 150,
      "outputs": []
    },
    {
      "cell_type": "markdown",
      "metadata": {
        "id": "1aj7udG8NShG"
      },
      "source": [
        "## Contoh citra dari dataset\n",
        "menampilkan citra dari data pertama, untuk memastikan hasil dari import dataset berhasil."
      ]
    },
    {
      "cell_type": "code",
      "metadata": {
        "id": "rGkyDlE4NV-P",
        "colab": {
          "base_uri": "https://localhost:8080/",
          "height": 282
        },
        "outputId": "fd23e2da-aba9-45a7-bde8-5710e3f4e58a"
      },
      "source": [
        "plt.imshow(x_train[0], cmap=\"binary\") \n",
        "plt.show() \n",
        "print(\"Citra digit angka\",y_train[0])"
      ],
      "execution_count": 151,
      "outputs": [
        {
          "output_type": "display_data",
          "data": {
            "image/png": "[encoded data removed]",
            "text/plain": [
              "<Figure size 432x288 with 1 Axes>"
            ]
          },
          "metadata": {
            "tags": [],
            "needs_background": "light"
          }
        },
        {
          "output_type": "stream",
          "text": [
            "Citra digit angka 5\n"
          ],
          "name": "stdout"
        }
      ]
    },
    {
      "cell_type": "markdown",
      "metadata": {
        "id": "w_7JHT8nTwKr"
      },
      "source": [
        "## Normalisasi data\n",
        "* Nilai input dari citra yang sudah diimport pada tahan sebelumnya berupa integer 0 - 255 dinormalisasi terlebih dahulu menjadi angka 0 - 1.\n",
        "* Nilai target output yang berupa nilai integer 0 - 9 kita ubah menjadi one-hot encoded, yaitu vektor yang berisi angka 0 dan 1\n"
      ]
    },
    {
      "cell_type": "code",
      "metadata": {
        "id": "ie1oGzXVNYG9"
      },
      "source": [
        "# konversi integers jadi floats\n",
        "train_norm = x_train.astype('float32')\n",
        "test_norm = x_test.astype('float32')\n",
        "# normalisasi ke range 0-1\n",
        "x_train = train_norm / 255.0\n",
        "x_test = test_norm / 255.0\n",
        "# one hot encode nilai target\n",
        "y_train_enc = tf.keras.utils.to_categorical(y_train)\n",
        "y_test_enc = tf.keras.utils.to_categorical(y_test)"
      ],
      "execution_count": 152,
      "outputs": []
    },
    {
      "cell_type": "markdown",
      "metadata": {
        "id": "J7b1DBPIgqQ4"
      },
      "source": [
        "## Mendefinisikan Model Neural Network\n"
      ]
    },
    {
      "cell_type": "code",
      "metadata": {
        "id": "NmLrrj-LNZ0H"
      },
      "source": [
        "model = tf.keras.models.Sequential()\n",
        "model.add(tf.keras.layers.Flatten())\n",
        "model.add(tf.keras.layers.Dense(128, input_shape=(784,), activation=tf.nn.relu, kernel_initializer=\"glorot_uniform\"))\n",
        "model.add(tf.keras.layers.Dropout(0.1))\n",
        "model.add(tf.keras.layers.Dense(128, activation=tf.nn.relu, kernel_initializer=\"glorot_uniform\"))\n",
        "model.add(tf.keras.layers.Dropout(0.1))\n",
        "model.add(tf.keras.layers.Dense(10, activation=tf.nn.softmax, kernel_initializer=\"glorot_uniform\"))"
      ],
      "execution_count": 153,
      "outputs": []
    },
    {
      "cell_type": "markdown",
      "metadata": {
        "id": "dqb5n5XUilap"
      },
      "source": [
        "### Konfigurasi training\n",
        "* Fungsi loss yang digunakan adalah categorical crossentropy<br>\n",
        "sesuai dengan klasifikasi multi class dengan output berupa one-hot encoded"
      ]
    },
    {
      "cell_type": "code",
      "metadata": {
        "id": "aeVTdL-dNb4s"
      },
      "source": [
        "model.compile(optimizer=\"adam\", loss=\"categorical_crossentropy\", metrics=[\"accuracy\"])"
      ],
      "execution_count": 154,
      "outputs": []
    },
    {
      "cell_type": "markdown",
      "metadata": {
        "id": "1xeIKjtwloJ2"
      },
      "source": [
        "## Proses pembelajaran \n",
        "Menjalankan proses pembelajaran (mencari loss minimun dan update bobot) dari model yang telah didefinisikan di atas.<br>\n",
        "Proses ini dijalankan berulang kali sebanyak jumlah epoch yang telah ditentukan"
      ]
    },
    {
      "cell_type": "code",
      "metadata": {
        "id": "U4YMTmPANd8C",
        "colab": {
          "base_uri": "https://localhost:8080/"
        },
        "outputId": "48a6b0cc-d899-4c89-ab34-8f5006fdabfc"
      },
      "source": [
        "history = model.fit(x=x_train, y=y_train_enc, epochs=10, validation_split=0.1) "
      ],
      "execution_count": 155,
      "outputs": [
        {
          "output_type": "stream",
          "text": [
            "Epoch 1/10\n",
            "1688/1688 [==============================] - 5s 3ms/step - loss: 0.2756 - accuracy: 0.9167 - val_loss: 0.1100 - val_accuracy: 0.9658\n",
            "Epoch 2/10\n",
            "1688/1688 [==============================] - 4s 3ms/step - loss: 0.1275 - accuracy: 0.9610 - val_loss: 0.0769 - val_accuracy: 0.9760\n",
            "Epoch 3/10\n",
            "1688/1688 [==============================] - 4s 3ms/step - loss: 0.0928 - accuracy: 0.9709 - val_loss: 0.0789 - val_accuracy: 0.9782\n",
            "Epoch 4/10\n",
            "1688/1688 [==============================] - 4s 3ms/step - loss: 0.0764 - accuracy: 0.9753 - val_loss: 0.0683 - val_accuracy: 0.9802\n",
            "Epoch 5/10\n",
            "1688/1688 [==============================] - 4s 3ms/step - loss: 0.0644 - accuracy: 0.9794 - val_loss: 0.0890 - val_accuracy: 0.9772\n",
            "Epoch 6/10\n",
            "1688/1688 [==============================] - 4s 3ms/step - loss: 0.0583 - accuracy: 0.9809 - val_loss: 0.0766 - val_accuracy: 0.9793\n",
            "Epoch 7/10\n",
            "1688/1688 [==============================] - 4s 3ms/step - loss: 0.0489 - accuracy: 0.9835 - val_loss: 0.0736 - val_accuracy: 0.9797\n",
            "Epoch 8/10\n",
            "1688/1688 [==============================] - 4s 3ms/step - loss: 0.0442 - accuracy: 0.9857 - val_loss: 0.0720 - val_accuracy: 0.9810\n",
            "Epoch 9/10\n",
            "1688/1688 [==============================] - 4s 3ms/step - loss: 0.0424 - accuracy: 0.9860 - val_loss: 0.0717 - val_accuracy: 0.9793\n",
            "Epoch 10/10\n",
            "1688/1688 [==============================] - 4s 3ms/step - loss: 0.0373 - accuracy: 0.9874 - val_loss: 0.0811 - val_accuracy: 0.9808\n"
          ],
          "name": "stdout"
        }
      ]
    },
    {
      "cell_type": "markdown",
      "metadata": {
        "id": "5_98IrSw9yfT"
      },
      "source": [
        "## Evaluasi model NN\n"
      ]
    },
    {
      "cell_type": "code",
      "metadata": {
        "id": "GrX7i09UNgCi",
        "colab": {
          "base_uri": "https://localhost:8080/"
        },
        "outputId": "677837f8-1ac0-42e7-aae8-2adff04d44dd"
      },
      "source": [
        "test_loss, test_acc = model.evaluate(x=x_test, y=y_test_enc)"
      ],
      "execution_count": 156,
      "outputs": [
        {
          "output_type": "stream",
          "text": [
            "313/313 [==============================] - 0s 1ms/step - loss: 0.0803 - accuracy: 0.9800\n"
          ],
          "name": "stdout"
        }
      ]
    },
    {
      "cell_type": "markdown",
      "metadata": {
        "id": "eYlNPbAz97Kt"
      },
      "source": [
        "## Pengujian dengan data testing\n",
        "Setelah model selesai melakukan traning dan hasil dari model dapat dilihat dari evaluasi diatas, maka model siap dilakukan testing"
      ]
    },
    {
      "cell_type": "code",
      "metadata": {
        "id": "Sz3WB7UnNi0v"
      },
      "source": [
        "predictions = model.predict(x_test) "
      ],
      "execution_count": 157,
      "outputs": []
    },
    {
      "cell_type": "markdown",
      "metadata": {
        "id": "jHijACivNk71"
      },
      "source": [
        "## Menampilkan contoh hasil pengenalan citra\n",
        "Berikut ini tampilan dari sebagian hasil testing data."
      ]
    },
    {
      "cell_type": "code",
      "metadata": {
        "id": "sBIAY-EENnSw",
        "colab": {
          "base_uri": "https://localhost:8080/",
          "height": 372
        },
        "outputId": "e04bcf09-23d8-4aa8-f401-db0b57a12936"
      },
      "source": [
        "x_test__ = x_test.reshape(x_test.shape[0], 28, 28)\n",
        "fig, axis = plt.subplots(2, 5, figsize=(12, 6))\n",
        "for i, ax in enumerate(axis.flat):\n",
        "    ax.imshow(x_test__[i], cmap='binary')\n",
        "    ax.set(title = f\"Label asli {y_test[i]}\\nHasil pengenalan {predictions[i].argmax()}\")"
      ],
      "execution_count": 158,
      "outputs": [
        {
          "output_type": "display_data",
          "data": {
            "image/png": "[encoded data removed]",
            "text/plain": [
              "<Figure size 864x432 with 10 Axes>"
            ]
          },
          "metadata": {
            "tags": [],
            "needs_background": "light"
          }
        }
      ]
    },
    {
      "cell_type": "markdown",
      "metadata": {
        "id": "d9VUBuvJdO6E"
      },
      "source": [
        "## Visualisasi hasil training\n",
        "\n",
        "\n",
        "1.   Akurasi training\n",
        "\n"
      ]
    },
    {
      "cell_type": "code",
      "metadata": {
        "id": "zjRMaNr7WNEp",
        "colab": {
          "base_uri": "https://localhost:8080/",
          "height": 295
        },
        "outputId": "4e6dc39e-21c0-4598-cda2-e33bd3293fb4"
      },
      "source": [
        "# summarize history for accuracy\n",
        "plt.plot(history.history['accuracy'])\n",
        "plt.plot(history.history['val_accuracy'])\n",
        "plt.title('model accuracy')\n",
        "plt.ylabel('accuracy')\n",
        "plt.xlabel('epoch')\n",
        "plt.legend(['train', 'test'], loc='upper left')\n",
        "plt.show()"
      ],
      "execution_count": 159,
      "outputs": [
        {
          "output_type": "display_data",
          "data": {
            "image/png": "[encoded data removed]",
            "text/plain": [
              "<Figure size 432x288 with 1 Axes>"
            ]
          },
          "metadata": {
            "tags": [],
            "needs_background": "light"
          }
        }
      ]
    },
    {
      "cell_type": "markdown",
      "metadata": {
        "id": "5G-hD-lldfla"
      },
      "source": [
        "\n",
        "\n",
        "2.   Loss training\n",
        "\n"
      ]
    },
    {
      "cell_type": "code",
      "metadata": {
        "id": "GYIeyvH3b_B9",
        "colab": {
          "base_uri": "https://localhost:8080/",
          "height": 295
        },
        "outputId": "f5d1e036-14fb-4fd5-951e-8e0628405854"
      },
      "source": [
        "# summarize history for loss\n",
        "plt.plot(history.history['loss'])\n",
        "plt.plot(history.history['val_loss'])\n",
        "plt.title('model loss')\n",
        "plt.ylabel('loss')\n",
        "plt.xlabel('epoch')\n",
        "plt.legend(['train', 'test'], loc='upper left')\n",
        "plt.show()"
      ],
      "execution_count": 160,
      "outputs": [
        {
          "output_type": "display_data",
          "data": {
            "image/png": "[encoded data removed]",
            "text/plain": [
              "<Figure size 432x288 with 1 Axes>"
            ]
          },
          "metadata": {
            "tags": [],
            "needs_background": "light"
          }
        }
      ]
    }
  ]
}